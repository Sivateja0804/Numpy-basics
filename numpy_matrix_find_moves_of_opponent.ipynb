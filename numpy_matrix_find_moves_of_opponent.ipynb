{
 "cells": [
  {
   "cell_type": "code",
   "execution_count": null,
   "metadata": {},
   "outputs": [],
   "source": [
    "#team A is X and team B is O\n",
    "il,jl=np.where(board!=\"_\")\n",
    "    x_y = {}\n",
    "    for index in range(0, len(il)):\n",
    "        if jl[index] + 1 < len(board) and board[il[index], jl[index] + 1] == '_':\n",
    "            x_y[str(il[index]) + \",\" + str(jl[index] + 1)] = \"\"\n",
    "        if jl[index] - 1 >= 0 and board[il[index], jl[index] - 1] == '_':\n",
    "            x_y[str(il[index]) + \",\" + str(jl[index] - 1)] = \"\"\n",
    "        if il[index] - 1 >= 0 and board[il[index] - 1, jl[index]] == '_':\n",
    "            x_y[str(il[index] - 1) + \",\" + str(jl[index])] = \"\"\n",
    "        if il[index] - 1 >= 0 and jl[index] - 1 >= 0 and board[il[index] - 1, jl[index] - 1] == '_':\n",
    "            x_y[str(il[index] - 1) + \",\" + str(jl[index] - 1)] = \"\"\n",
    "        if il[index] - 1 >= 0 and jl[index] + 1 < len(board) and board[il[index] - 1, jl[index] + 1] == '_':\n",
    "            x_y[str(il[index] - 1) + \",\" + str(jl[index] + 1)] = \"\"\n",
    "        if il[index] + 1 < len(board) and board[il[index] + 1, jl[index]] == '_':\n",
    "            x_y[str(il[index] + 1) + \",\" + str(jl[index])] = \"\"\n",
    "        if il[index] + 1 < len(board) and jl[index] + 1 < len(board) and board[il[index] + 1, jl[index] + 1] == '_':\n",
    "            x_y[str(il[index] + 1) + \",\" + str(jl[index] + 1)] = \"\"\n",
    "        if il[index] + 1 < len(board) and jl[index] - 1 >= 0 and board[il[index] + 1, jl[index] - 1] == '_':\n",
    "            x_y[str(il[index] + 1) + \",\" + str(jl[index] - 1)] = \"\"\n",
    "        x = []\n",
    "        y = []\n",
    "        for k, v in x_y.items():\n",
    "            x.append(int(k.split(\",\")[0]))\n",
    "            y.append(int(k.split(\",\")[1]))\n",
    "    legal_moves = np.array(list(zip(x, y)))"
   ]
  },
  {
   "cell_type": "code",
   "execution_count": null,
   "metadata": {},
   "outputs": [],
   "source": []
  },
  {
   "cell_type": "code",
   "execution_count": 18,
   "metadata": {},
   "outputs": [
    {
     "data": {
      "text/plain": [
       "array([['O', '_', '_', '_', '_', '_', '_', '_', '_', '_', '_', '_'],\n",
       "       ['_', 'O', 'X', '_', '_', '_', '_', '_', '_', '_', '_', '_'],\n",
       "       ['_', '_', '_', '_', '_', '_', '_', '_', '_', '_', '_', '_'],\n",
       "       ['_', '_', '_', '_', '_', '_', '_', '_', '_', '_', '_', '_'],\n",
       "       ['_', '_', 'O', '_', 'O', '_', '_', '_', '_', '_', '_', '_'],\n",
       "       ['_', '_', 'O', '_', 'O', '_', '_', '_', '_', 'O', '_', '_'],\n",
       "       ['_', '_', 'O', '_', '_', '_', '_', '_', '_', '_', '_', '_'],\n",
       "       ['_', '_', '_', '_', '_', '_', '_', '_', '_', '_', '_', '_'],\n",
       "       ['_', '_', '_', '_', '_', '_', '_', '_', '_', '_', '_', '_'],\n",
       "       ['_', '_', '_', '_', '_', '_', 'X', '_', '_', 'O', '_', '_'],\n",
       "       ['_', '_', '_', '_', '_', '_', '_', '_', '_', '_', '_', '_'],\n",
       "       ['_', '_', '_', '_', '_', '_', '_', '_', '_', '_', '_', '_']],\n",
       "      dtype='<U1')"
      ]
     },
     "execution_count": 18,
     "metadata": {},
     "output_type": "execute_result"
    }
   ],
   "source": [
    "import numpy as np\n",
    "board = np.full((12, 12), \"_\")\n",
    "board[0,0]='O'\n",
    "board[1,1]='O'\n",
    "board[1,2]='X'\n",
    "board[9,6]='X'\n",
    "board[4,4]='O'\n",
    "# board[4,3]='O'\n",
    "board[4,2]='O'\n",
    "board[5,4]='O'\n",
    "board[5,2]='O'\n",
    "board[6,2]='O'\n",
    "board[5,9]='O'\n",
    "board[9,9]='O'\n",
    "board"
   ]
  },
  {
   "cell_type": "code",
   "execution_count": 19,
   "metadata": {},
   "outputs": [
    {
     "data": {
      "text/plain": [
       "{'2,2': '', '3,2': '', '6,4': '', '3,4': '', '7,2': ''}"
      ]
     },
     "execution_count": 19,
     "metadata": {},
     "output_type": "execute_result"
    }
   ],
   "source": [
    "# and board[il[i],jl[i]-1]==\"O\"\n",
    "# and jl[i]-1>=0\n",
    "il,jl=np.where(board==\"O\")\n",
    "x_y = {}\n",
    "for i in range(0, len(il)):\n",
    "    if jl[i]+1<len(board)  and board[il[i],jl[i]+1]==\"O\" :\n",
    "        if jl[i]+2<len(board) and board[il[i],jl[i]+2]==\"_\":\n",
    "            x_y[str(il[i]) + \",\" + str(jl[i]+2)] = \"\"\n",
    "        if jl[i]-1>=0 and board[il[i],jl[i]-1]==\"_\":\n",
    "            x_y[str(il[i]) + \",\" + str(jl[i]-1)] = \"\"\n",
    "    if il[i]+1<len(board)  and board[il[i]+1,jl[i]]==\"O\" :\n",
    "        if il[i]+2<len(board) and board[il[i]+2,jl[i]]==\"_\":\n",
    "            x_y[str(il[i]+2) + \",\" + str(jl[i])] = \"\"\n",
    "        if il[i]-1>=0 and board[il[i]-1,jl[i]]==\"_\":\n",
    "            x_y[str(il[i]-1) + \",\" + str(jl[i])] = \"\"\n",
    "    if il[i]+1<len(board) and jl[i]+1<len(board)  and board[il[i]+1,jl[i]+1]==\"O\" :\n",
    "        if il[i]+2<len(board) and jl[i]+2<len(board) and board[il[i]+2,jl[i]+2]==\"_\":\n",
    "            x_y[str(il[i]+2) + \",\" + str(jl[i]+2)] = \"\"\n",
    "        if il[i]-1>=0 and jl[i]-1>=0 and board[il[i]-1,jl[i]-1]==\"_\":\n",
    "            x_y[str(il[i]-1) + \",\" + str(jl[i]-1)] = \"\"\n",
    "    if il[i]+1<len(board) and jl[i]-1>=0 and board[il[i]+1,jl[i]-1]==\"O\" :\n",
    "        if il[i]+2<len(board) and jl[i]-2<len(board) and board[il[i]+2,jl[i]-2]==\"_\":\n",
    "            x_y[str(il[i]+2) + \",\" + str(jl[i]-2)] = \"\"\n",
    "        if il[i]-1>=0 and jl[i]+1>=0 and board[il[i]-1,jl[i]+1]==\"_\":\n",
    "            x_y[str(il[i]-1) + \",\" + str(jl[i]+1)] = \"\"\n",
    "x_y"
   ]
  }
 ],
 "metadata": {
  "kernelspec": {
   "display_name": "Python 3",
   "language": "python",
   "name": "python3"
  },
  "language_info": {
   "codemirror_mode": {
    "name": "ipython",
    "version": 3
   },
   "file_extension": ".py",
   "mimetype": "text/x-python",
   "name": "python",
   "nbconvert_exporter": "python",
   "pygments_lexer": "ipython3",
   "version": "3.7.4"
  }
 },
 "nbformat": 4,
 "nbformat_minor": 2
}
