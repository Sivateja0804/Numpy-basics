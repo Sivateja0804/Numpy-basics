{
 "cells": [
  {
   "cell_type": "code",
   "execution_count": null,
   "metadata": {},
   "outputs": [],
   "source": []
  },
  {
   "cell_type": "code",
   "execution_count": 1,
   "metadata": {},
   "outputs": [
    {
     "data": {
      "text/plain": [
       "array([  0,   1,   2,   3,   4,   5,   6,   7,   8,   9,  10,  11,  12,\n",
       "        13,  14,  15,  16,  17,  18,  19,  20,  21,  22,  23,  24,  25,\n",
       "        26,  27,  28,  29,  30,  31,  32,  33,  34,  35,  36,  37,  38,\n",
       "        39,  40,  41,  42,  43,  44,  45,  46,  47,  48,  49,  50,  51,\n",
       "        52,  53,  54,  55,  56,  57,  58,  59,  60,  61,  62,  63,  64,\n",
       "        65,  66,  67,  68,  69,  70,  71,  72,  73,  74,  75,  76,  77,\n",
       "        78,  79,  80,  81,  82,  83,  84,  85,  86,  87,  88,  89,  90,\n",
       "        91,  92,  93,  94,  95,  96,  97,  98,  99, 100, 101, 102, 103,\n",
       "       104, 105, 106, 107, 108, 109, 110, 111, 112, 113, 114, 115, 116,\n",
       "       117, 118, 119, 120, 121, 122, 123, 124, 125, 126, 127, 128, 129,\n",
       "       130, 131, 132, 133, 134, 135, 136, 137, 138, 139, 140, 141, 142,\n",
       "       143])"
      ]
     },
     "execution_count": 1,
     "metadata": {},
     "output_type": "execute_result"
    }
   ],
   "source": [
    "import numpy as np\n",
    "a=np.arange(0,144)\n",
    "a"
   ]
  },
  {
   "cell_type": "code",
   "execution_count": 2,
   "metadata": {},
   "outputs": [
    {
     "data": {
      "text/plain": [
       "array([[  0,   1,   2,   3,   4,   5,   6,   7,   8,   9,  10,  11],\n",
       "       [ 12,  13,  14,  15,  16,  17,  18,  19,  20,  21,  22,  23],\n",
       "       [ 24,  25,  26,  27,  28,  29,  30,  31,  32,  33,  34,  35],\n",
       "       [ 36,  37,  38,  39,  40,  41,  42,  43,  44,  45,  46,  47],\n",
       "       [ 48,  49,  50,  51,  52,  53,  54,  55,  56,  57,  58,  59],\n",
       "       [ 60,  61,  62,  63,  64,  65,  66,  67,  68,  69,  70,  71],\n",
       "       [ 72,  73,  74,  75,  76,  77,  78,  79,  80,  81,  82,  83],\n",
       "       [ 84,  85,  86,  87,  88,  89,  90,  91,  92,  93,  94,  95],\n",
       "       [ 96,  97,  98,  99, 100, 101, 102, 103, 104, 105, 106, 107],\n",
       "       [108, 109, 110, 111, 112, 113, 114, 115, 116, 117, 118, 119],\n",
       "       [120, 121, 122, 123, 124, 125, 126, 127, 128, 129, 130, 131],\n",
       "       [132, 133, 134, 135, 136, 137, 138, 139, 140, 141, 142, 143]])"
      ]
     },
     "execution_count": 2,
     "metadata": {},
     "output_type": "execute_result"
    }
   ],
   "source": [
    "a=a.reshape(12,12)\n",
    "a\n",
    "\n"
   ]
  },
  {
   "cell_type": "code",
   "execution_count": 11,
   "metadata": {},
   "outputs": [
    {
     "name": "stdout",
     "output_type": "stream",
     "text": [
      "[array([  0,  13,  26,  39,  52,  65,  78,  91, 104, 117, 130, 143]), array([ 11,  22,  33,  44,  55,  66,  77,  88,  99, 110, 121, 132])]\n"
     ]
    }
   ],
   "source": [
    "#this cell will return both diagonals one is fron left to right and other is right to left\n",
    "li=[]\n",
    "l=len(a)-3\n",
    "diag=a.diagonal()\n",
    "rev=np.diag(np.fliplr(a))\n",
    "li.append(diag)\n",
    "li.append(rev)\n",
    "print(li)"
   ]
  },
  {
   "cell_type": "code",
   "execution_count": 13,
   "metadata": {
    "scrolled": true
   },
   "outputs": [
    {
     "name": "stdout",
     "output_type": "stream",
     "text": [
      "[array([  0,  13,  26,  39,  52,  65,  78,  91, 104, 117, 130, 143]), array([ 11,  22,  33,  44,  55,  66,  77,  88,  99, 110, 121, 132]), array([ 0, 13, 26, 39]), array([ 0, 13, 26]), array([ 2, 13, 24]), array([ 11,  22,  33,  44,  55,  66,  77,  88,  99, 110, 121, 132]), array([11]), array([132]), array([ 3, 14, 25, 36]), array([143]), array([10, 23]), array([120, 133]), array([ 4, 15, 26, 37, 48]), array([131, 142]), array([ 9, 22, 35]), array([108, 121, 134]), array([ 5, 16, 27, 38, 49, 60]), array([119, 130, 141]), array([ 8, 21, 34, 47]), array([ 96, 109, 122, 135]), array([ 6, 17, 28, 39, 50, 61, 72]), array([107, 118, 129, 140]), array([ 7, 20, 33, 46, 59]), array([ 84,  97, 110, 123, 136]), array([ 7, 18, 29, 40, 51, 62, 73, 84]), array([ 95, 106, 117, 128, 139]), array([ 6, 19, 32, 45, 58, 71]), array([ 72,  85,  98, 111, 124, 137]), array([ 8, 19, 30, 41, 52, 63, 74, 85, 96]), array([ 83,  94, 105, 116, 127, 138]), array([ 5, 18, 31, 44, 57, 70, 83]), array([ 60,  73,  86,  99, 112, 125, 138]), array([  9,  20,  31,  42,  53,  64,  75,  86,  97, 108]), array([ 71,  82,  93, 104, 115, 126, 137]), array([ 4, 17, 30, 43, 56, 69, 82, 95]), array([ 48,  61,  74,  87, 100, 113, 126, 139]), array([ 10,  21,  32,  43,  54,  65,  76,  87,  98, 109, 120]), array([ 59,  70,  81,  92, 103, 114, 125, 136])]\n"
     ]
    }
   ],
   "source": [
    "#this cell will return all possible variations of diagonals in a  matrix where single matrix len==3 we an change this by just changing the value in for loop to 0 if we want all\n",
    "for i in range(4,len(a)+1):\n",
    "    mat1=a[:i,l:].diagonal()\n",
    "    mat2=a[l:,:i-1].diagonal()\n",
    "    #3 and 4 we need opposite diagonal\n",
    "    mat3=np.diag(np.fliplr(a[:i-1,:i-1]))\n",
    "    mat4=np.diag(np.fliplr(a[l:,l:]))\n",
    "    l-=1\n",
    "    li.append(mat1)\n",
    "    li.append(mat2)\n",
    "    li.append(mat3)\n",
    "    li.append(mat4)\n",
    "print(li)"
   ]
  }
 ],
 "metadata": {
  "kernelspec": {
   "display_name": "Python 3",
   "language": "python",
   "name": "python3"
  },
  "language_info": {
   "codemirror_mode": {
    "name": "ipython",
    "version": 3
   },
   "file_extension": ".py",
   "mimetype": "text/x-python",
   "name": "python",
   "nbconvert_exporter": "python",
   "pygments_lexer": "ipython3",
   "version": "3.7.4"
  }
 },
 "nbformat": 4,
 "nbformat_minor": 2
}
